{
 "cells": [
  {
   "cell_type": "code",
   "execution_count": 1,
   "id": "e3e2dfa7",
   "metadata": {},
   "outputs": [],
   "source": [
    "from datasets import load_dataset"
   ]
  },
  {
   "cell_type": "code",
   "execution_count": 2,
   "id": "3b73a3bb",
   "metadata": {},
   "outputs": [
    {
     "name": "stderr",
     "output_type": "stream",
     "text": [
      "Found cached dataset parquet (/home/alex/.cache/huggingface/datasets/asavanovich___parquet/asavanovich--sft_dataset-649b1575e92ab778/0.0.0/2a3b91fbd88a2c90d1dbbb32b460cf621d31bd5b05b934492fdef7d8d6f236ec)\n"
     ]
    },
    {
     "data": {
      "application/vnd.jupyter.widget-view+json": {
       "model_id": "a05852ac15b343209f1e3c70e5eb7c07",
       "version_major": 2,
       "version_minor": 0
      },
      "text/plain": [
       "  0%|          | 0/1 [00:00<?, ?it/s]"
      ]
     },
     "metadata": {},
     "output_type": "display_data"
    }
   ],
   "source": [
    "dataset = load_dataset(\"asavanovich/sft_dataset\")"
   ]
  },
  {
   "cell_type": "code",
   "execution_count": 23,
   "id": "3317b153",
   "metadata": {},
   "outputs": [
    {
     "data": {
      "text/plain": [
       "(10000, 584, 523)"
      ]
     },
     "execution_count": 23,
     "metadata": {},
     "output_type": "execute_result"
    }
   ],
   "source": [
    "question_code_examples = []\n",
    "answer_code_examples = []\n",
    "for r in dataset['train']:\n",
    "    if '```' in r['question']:\n",
    "        question_code_examples.append(r['question'])\n",
    "    if '```' in r['answer']:\n",
    "        answer_code_examples.append(r['answer'])\n",
    "len(dataset['train']), len(question_code_examples), len(answer_code_examples)"
   ]
  },
  {
   "cell_type": "code",
   "execution_count": 20,
   "id": "a9da69cf",
   "metadata": {},
   "outputs": [
    {
     "name": "stdout",
     "output_type": "stream",
     "text": [
      "I'm automating a script which searches through all php files on a big site for dangerous commands. The files which are found will be manually code reviewed. \n",
      "\n",
      "Does anyone have any recommendations for my script? Is there anything I've forgotten to search for? Please note that this script was put together in 10 minutes, so I'm sure there are a lot of improvements that can be done in order to make it easier and better (like multiple egrep arguments).\n",
      "\n",
      "```\n",
      "find . | grep \"php$\" | xargs grep -s \"eval(\" >> /tmp/review.txt\n",
      "find . | grep \"php$\" | xargs grep -s \"fopen(\" >> /tmp/review.txt \n",
      "find . | grep \"php$\" | xargs grep -s \"passthru(\" >> /tmp/review.txt \n",
      "find . | grep \"php$\" | xargs grep -s \"exec(\" >> /tmp/review.txt \n",
      "find . | grep \"php$\" | xargs grep -s \"proc_\" >> /tmp/review.txt \n",
      "find . | grep \"php$\" | xargs grep -s \"dl(\" >> /tmp/review.txt \n",
      "find . | grep \"php$\" | xargs grep -s \"require($\" >> /tmp/review.txt\n",
      "find . | grep \"php$\" | xargs grep -s \"require_once($\" >> /tmp/review.txt\n",
      "find . | grep \"php$\" | xargs grep -s \"include($\" >> /tmp/review.txt \n",
      "find . | grep \"php$\" | xargs grep -s \"include_once($\" >> /tmp/review.txt \n",
      "find . | grep \"php$\" | xargs grep -s \"include($\" >> /tmp/review.txt \n",
      "find . | grep \"php$\" | xargs grep -s \"query(\" >> /tmp/review.txt \n",
      "\n",
      "```\n"
     ]
    }
   ],
   "source": [
    "text = question_code_examples[0]\n",
    "\n",
    "print(text)"
   ]
  },
  {
   "cell_type": "code",
   "execution_count": 21,
   "id": "e304772c",
   "metadata": {
    "scrolled": false
   },
   "outputs": [
    {
     "name": "stdout",
     "output_type": "stream",
     "text": [
      "I'm automatint a script which searches through all php files on a big site for dzngerous commands. The files files which are found will be manually code reviewed. \n",
      "\n",
      "Does anyone have any recommendations for my script? Is there anything I've forgotten to searvh for? Please note that this script was put together in 10 minutes, so I'm sure there are a lot or improvements that can be done in order to make it easier and better (like multiple egrep arguments).\n",
      "\n",
      "```\n",
      "find . | grep \"php$\" | xargs grep -s \"eval(\" >> /tmp/review.txt\n",
      "find . | grep \"php$\" | xargs grep -s \"fopen(\" >> /tmp/review.txt \n",
      "find . | grep \"php$\" | xargs grep -s \"passthru(\" >> /tmp/review.txt \n",
      "find . | grep \"php$\" | xargs grep -s \"exec(\" >> /tmp/review.txt \n",
      "find . | grep \"php$\" | xargs grep -s \"proc_\" >> /tmp/review.txt \n",
      "find . | grep \"php$\" | xargs grep -s \"dl(\" >> /tmp/review.txt \n",
      "find . | grep \"php$\" | xargs grep -s \"require($\" >> /tmp/review.txt\n",
      "find . | grep \"php$\" | xargs grep -s \"require_once($\" >> /tmp/review.txt\n",
      "find . | grep \"php$\" | xargs grep -s \"include($\" >> /tmp/review.txt \n",
      "find . | grep \"php$\" | xargs grep -s \"include_once($\" >> /tmp/review.txt \n",
      "find . | grep \"php$\" | xargs grep -s \"include($\" >> /tmp/review.txt \n",
      "find . | grep \"php$\" | xargs grep -s \"query(\" >> /tmp/review.txt \n",
      "\n",
      "```\n"
     ]
    }
   ],
   "source": [
    "from utils.augmentation import augment\n",
    "augmented_text = augment(text)\n",
    "print(augmented_text)"
   ]
  },
  {
   "cell_type": "code",
   "execution_count": 22,
   "id": "3dc6b4ee",
   "metadata": {
    "scrolled": false
   },
   "outputs": [
    {
     "name": "stdout",
     "output_type": "stream",
     "text": [
      "I'm automatic a script which searches through all pp files on a big site for dangerous commands. The files files which are found will be mentally code reviewed. \n",
      "\n",
      "Does anyone have any recommendations for my script? Is there anything I've forgotten to search for? Please note that this script was put together in 10 minutes, so I'm sure there are a lot or improvements that can be done in order to make it easier and better (like multiple grew arguments).\n",
      "\n",
      "```\n",
      "find . | grep \"php$\" | xargs grep -s \"eval(\" >> /tmp/review.txt\n",
      "find . | grep \"php$\" | xargs grep -s \"fopen(\" >> /tmp/review.txt \n",
      "find . | grep \"php$\" | xargs grep -s \"passthru(\" >> /tmp/review.txt \n",
      "find . | grep \"php$\" | xargs grep -s \"exec(\" >> /tmp/review.txt \n",
      "find . | grep \"php$\" | xargs grep -s \"proc_\" >> /tmp/review.txt \n",
      "find . | grep \"php$\" | xargs grep -s \"dl(\" >> /tmp/review.txt \n",
      "find . | grep \"php$\" | xargs grep -s \"require($\" >> /tmp/review.txt\n",
      "find . | grep \"php$\" | xargs grep -s \"require_once($\" >> /tmp/review.txt\n",
      "find . | grep \"php$\" | xargs grep -s \"include($\" >> /tmp/review.txt \n",
      "find . | grep \"php$\" | xargs grep -s \"include_once($\" >> /tmp/review.txt \n",
      "find . | grep \"php$\" | xargs grep -s \"include($\" >> /tmp/review.txt \n",
      "find . | grep \"php$\" | xargs grep -s \"query(\" >> /tmp/review.txt \n",
      "\n",
      "```\n"
     ]
    }
   ],
   "source": [
    "from utils.markdown import html2md, apply_transformation_for_non_code\n",
    "from textblob import TextBlob\n",
    "\n",
    "res = apply_transformation_for_non_code(augmented_text, functions=[\n",
    "     # spelling correction\n",
    "     lambda s: str(TextBlob(s).correct())\n",
    "])\n",
    "print(res)"
   ]
  },
  {
   "cell_type": "code",
   "execution_count": null,
   "id": "a257bab5",
   "metadata": {},
   "outputs": [],
   "source": []
  },
  {
   "cell_type": "code",
   "execution_count": null,
   "id": "27a44643",
   "metadata": {},
   "outputs": [],
   "source": []
  },
  {
   "cell_type": "code",
   "execution_count": null,
   "id": "a5c718ea",
   "metadata": {},
   "outputs": [],
   "source": []
  },
  {
   "cell_type": "code",
   "execution_count": null,
   "id": "bca3b8d0",
   "metadata": {},
   "outputs": [],
   "source": []
  },
  {
   "cell_type": "code",
   "execution_count": null,
   "id": "dfd79531",
   "metadata": {},
   "outputs": [],
   "source": []
  },
  {
   "cell_type": "code",
   "execution_count": null,
   "id": "f5fa02d7",
   "metadata": {},
   "outputs": [],
   "source": []
  },
  {
   "cell_type": "code",
   "execution_count": 126,
   "id": "90a7c6ea",
   "metadata": {},
   "outputs": [],
   "source": [
    "import nlpaug.augmenter.char as nac\n",
    "import nlpaug.augmenter.word as naw\n",
    "import nlpaug.augmenter.sentence as nas"
   ]
  },
  {
   "cell_type": "code",
   "execution_count": 160,
   "id": "ea6f12ca",
   "metadata": {},
   "outputs": [],
   "source": [
    "aug = nac.KeyboardAug(\n",
    "#     aug_char_max=1, \n",
    "                      aug_word_p=100,\n",
    "                      stopwords_regex='[^\\w]',\n",
    "                     #include_special_char=False, include_numeric=False, include_upper_case=False,\n",
    "                     #min_char=1\n",
    "                     )"
   ]
  },
  {
   "cell_type": "code",
   "execution_count": 161,
   "id": "aba29346",
   "metadata": {},
   "outputs": [
    {
     "name": "stdout",
     "output_type": "stream",
     "text": [
      "I've written at great length about [secure logins and \"remember me\" checkboxes](https://paragonie.com/blog/2015/04/secure-authentication-php-with-long-term-persistence#title.2.1). The accepted answer isn't wrong, but I'd argue that it's a bit more complicated in one respect than it needs to be, and neglects an area where a little bit more complexity is needed.\n",
      "\n",
      "> \n",
      "> generate and store a nonce on the server side, hash that with the username and other info (e.g. client ip, computername, timestamp, similar stuff), and send that in the cookie. The nonce should be stored in the database, together with expiry date, and both checked when the cookie comes back.\n",
      "> \n",
      "> \n",
      "> \n",
      "\n",
      "So an implementation that doesn't expose any information to the client might look like...\n",
      "\n",
      "\n",
      "====================\n",
      "I ' ve written at great length about [secure logins and \" remember me \" checkboxes] (https: / / paragonie. com / blog / 2015 / 04 / secure - authentication - php - with - long - term - persistence # title. 2. 1 ). The accepted answer isn ' t wrong, but I ' d argue that it ' s a bit more complicated in one respect than it needs to be, and neglects an area where a little bit more complexity is needed.> > generate and store a nonce on the server side, hash that with the username and other info (e. g. client ip, computername, timestamp, similar stuff ), and send that in the cookie. The nonce should be stored in the database, together with expiry date, and both checked when the cookie comes back.> >> So an implementation that doesn ' t expose any information to the client might look like. ..\n",
      "========================================\n"
     ]
    }
   ],
   "source": [
    "text = code_examples[0]['response_j']\n",
    "prev_end = 0\n",
    "for r in code_ranges:\n",
    "    substr = text[prev_end:r[0]]\n",
    "    prev_end = r[1]\n",
    "    print(substr)\n",
    "    print(\"=\"*20)\n",
    "    print(aug.augment(substr)[0])\n",
    "    print(\"=\"*40)\n",
    "    break"
   ]
  },
  {
   "cell_type": "code",
   "execution_count": null,
   "id": "318f294d",
   "metadata": {},
   "outputs": [],
   "source": []
  },
  {
   "cell_type": "code",
   "execution_count": 170,
   "id": "68b80ede",
   "metadata": {},
   "outputs": [],
   "source": [
    "import augmenty\n",
    "import spacy\n",
    "nlp = spacy.load(\"en_core_web_md\")\n",
    "keystroke_error_augmenter = augmenty.load(\"keystroke_error_v1\", level=0.1)"
   ]
  },
  {
   "cell_type": "code",
   "execution_count": 171,
   "id": "13e4a887",
   "metadata": {},
   "outputs": [
    {
     "name": "stdout",
     "output_type": "stream",
     "text": [
      "I've written at great length about [secure logins and \"remember me\" checkboxes](https://paragonie.com/blog/2015/04/secure-authentication-php-with-long-term-persistence#title.2.1). The accepted answer isn't wrong, but I'd argue that it's a bit more complicated in one respect than it needs to be, and neglects an area where a little bit more complexity is needed.\n",
      "\n",
      "> \n",
      "> generate and store a nonce on the server side, hash that with the username and other info (e.g. client ip, computername, timestamp, similar stuff), and send that in the cookie. The nonce should be stored in the database, together with expiry date, and both checked when the cookie comes back.\n",
      "> \n",
      "> \n",
      "> \n",
      "\n",
      "So an implementation that doesn't expose any information to the client might look like...\n",
      "\n",
      "\n",
      "====================\n",
      "I've wrirten at ggrat lengty about [sec7rf l8gkns and \"remember me\" checkboxes](https://paragonie.cpmlblog/2015l04/secure-authenticwtion-php-with-lomg-twrm0persistence#title.2.1(k The acxepted anwwer isn't wrong, but I'd argue thay ih's a bit mod2 complicated in one respect than it needs to be, and neglects an area where a lo5tle bit ,ord cojplexity 6s needed.\n",
      "\n",
      "> \n",
      "> geberatr and store a nonce on tte server side, hash that with the hsername and o4mer jgfo (e.g. client i[, co,puternsmek timesfamp, ximilzr stufc(, amd send fhat in fbe sookie. Thf monce shou/d be st;red in the dafafas3, together with expiry dar2. amd both checkex when the cookie comes back.\n",
      "> \n",
      "> \n",
      "> \n",
      "\n",
      "Co an implementation that dlesn'5 expose agy information to thr cliebt might oook like...\n",
      "\n",
      "\n",
      "========================================\n"
     ]
    }
   ],
   "source": [
    "text = code_examples[0]['response_j']\n",
    "\n",
    "\n",
    "texts = []\n",
    "prev_end = 0\n",
    "for r in code_ranges:\n",
    "    substr = text[prev_end:r[0]]\n",
    "    prev_end = r[1]\n",
    "    texts.append(substr)\n",
    "    \n",
    "augmented_texts = augmenty.texts(texts, augmenter=keystroke_error_augmenter, nlp=nlp)\n",
    "    \n",
    "for text, augmented_text in zip(texts, augmented_texts):\n",
    "    print(text)\n",
    "    print(\"=\"*20)\n",
    "    print(augmented_text)\n",
    "    print(\"=\"*40)\n",
    "    break"
   ]
  },
  {
   "cell_type": "code",
   "execution_count": null,
   "id": "6c84394f",
   "metadata": {},
   "outputs": [],
   "source": []
  }
 ],
 "metadata": {
  "kernelspec": {
   "display_name": "Python 3 (ipykernel)",
   "language": "python",
   "name": "python3"
  },
  "language_info": {
   "codemirror_mode": {
    "name": "ipython",
    "version": 3
   },
   "file_extension": ".py",
   "mimetype": "text/x-python",
   "name": "python",
   "nbconvert_exporter": "python",
   "pygments_lexer": "ipython3",
   "version": "3.10.11"
  }
 },
 "nbformat": 4,
 "nbformat_minor": 5
}
