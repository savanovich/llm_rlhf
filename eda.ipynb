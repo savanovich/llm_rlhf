{
 "cells": [
  {
   "cell_type": "code",
   "execution_count": 11,
   "id": "e3e2dfa7",
   "metadata": {},
   "outputs": [],
   "source": [
    "from markdownify import markdownify as md\n",
    "from datasets import load_dataset\n",
    "import re"
   ]
  },
  {
   "cell_type": "code",
   "execution_count": 4,
   "id": "3b73a3bb",
   "metadata": {},
   "outputs": [
    {
     "data": {
      "application/vnd.jupyter.widget-view+json": {
       "model_id": "69b71d0e9e8d47929d4475e4f5a6627d",
       "version_major": 2,
       "version_minor": 0
      },
      "text/plain": [
       "Downloading readme:   0%|          | 0.00/567 [00:00<?, ?B/s]"
      ]
     },
     "metadata": {},
     "output_type": "display_data"
    },
    {
     "name": "stdout",
     "output_type": "stream",
     "text": [
      "Downloading and preparing dataset None/None to /home/alex/.cache/huggingface/datasets/asavanovich___parquet/asavanovich--sft_dataset-5ea0b5130193e881/0.0.0/14a00e99c0d15a23649d0db8944380ac81082d4b021f398733dd84f3a6c569a7...\n"
     ]
    },
    {
     "data": {
      "application/vnd.jupyter.widget-view+json": {
       "model_id": "5b958f0c733b4f889859313cfb6ac1a5",
       "version_major": 2,
       "version_minor": 0
      },
      "text/plain": [
       "Downloading data files:   0%|          | 0/2 [00:00<?, ?it/s]"
      ]
     },
     "metadata": {},
     "output_type": "display_data"
    },
    {
     "data": {
      "application/vnd.jupyter.widget-view+json": {
       "model_id": "7047be0c9c434a888a5b822807d083a1",
       "version_major": 2,
       "version_minor": 0
      },
      "text/plain": [
       "Downloading data:   0%|          | 0.00/7.81M [00:00<?, ?B/s]"
      ]
     },
     "metadata": {},
     "output_type": "display_data"
    },
    {
     "data": {
      "application/vnd.jupyter.widget-view+json": {
       "model_id": "2fbec6d54b124fa4a0bbec3d77265903",
       "version_major": 2,
       "version_minor": 0
      },
      "text/plain": [
       "Downloading data:   0%|          | 0.00/965k [00:00<?, ?B/s]"
      ]
     },
     "metadata": {},
     "output_type": "display_data"
    },
    {
     "data": {
      "application/vnd.jupyter.widget-view+json": {
       "model_id": "9217bab29ba241c987c7baeeca944dc3",
       "version_major": 2,
       "version_minor": 0
      },
      "text/plain": [
       "Extracting data files:   0%|          | 0/2 [00:00<?, ?it/s]"
      ]
     },
     "metadata": {},
     "output_type": "display_data"
    },
    {
     "data": {
      "application/vnd.jupyter.widget-view+json": {
       "model_id": "",
       "version_major": 2,
       "version_minor": 0
      },
      "text/plain": [
       "Generating train split:   0%|          | 0/10000 [00:00<?, ? examples/s]"
      ]
     },
     "metadata": {},
     "output_type": "display_data"
    },
    {
     "data": {
      "application/vnd.jupyter.widget-view+json": {
       "model_id": "",
       "version_major": 2,
       "version_minor": 0
      },
      "text/plain": [
       "Generating test split:   0%|          | 0/1000 [00:00<?, ? examples/s]"
      ]
     },
     "metadata": {},
     "output_type": "display_data"
    },
    {
     "name": "stdout",
     "output_type": "stream",
     "text": [
      "Dataset parquet downloaded and prepared to /home/alex/.cache/huggingface/datasets/asavanovich___parquet/asavanovich--sft_dataset-5ea0b5130193e881/0.0.0/14a00e99c0d15a23649d0db8944380ac81082d4b021f398733dd84f3a6c569a7. Subsequent calls will reuse this data.\n"
     ]
    },
    {
     "data": {
      "application/vnd.jupyter.widget-view+json": {
       "model_id": "b04f65f563e148158dbff0b5c068fc5b",
       "version_major": 2,
       "version_minor": 0
      },
      "text/plain": [
       "  0%|          | 0/2 [00:00<?, ?it/s]"
      ]
     },
     "metadata": {},
     "output_type": "display_data"
    }
   ],
   "source": [
    "dataset = load_dataset(\"asavanovich/sft_dataset\")"
   ]
  },
  {
   "cell_type": "code",
   "execution_count": 8,
   "id": "3317b153",
   "metadata": {},
   "outputs": [],
   "source": [
    "code_examples = []\n",
    "for r in dataset['train']:\n",
    "    if '```' in r['question']:\n",
    "        code_examples.append(r['question'])\n",
    "    if '```' in r['response_j']:\n",
    "        code_examples.append(r['response_j'])"
   ]
  },
  {
   "cell_type": "code",
   "execution_count": 9,
   "id": "4f8ac802",
   "metadata": {},
   "outputs": [
    {
     "data": {
      "text/plain": [
       "1107"
      ]
     },
     "execution_count": 9,
     "metadata": {},
     "output_type": "execute_result"
    }
   ],
   "source": [
    "len(code_examples)"
   ]
  },
  {
   "cell_type": "code",
   "execution_count": 28,
   "id": "a9da69cf",
   "metadata": {},
   "outputs": [
    {
     "data": {
      "text/plain": [
       "'I\\'ve written at great length about [secure logins and \"remember me\" checkboxes](https://paragonie.com/blog/2015/04/secure-authentication-php-with-long-term-persistence#title.2.1). The accepted answer isn\\'t wrong, but I\\'d argue that it\\'s a bit more complicated in one respect than it needs to be, and neglects an area where a little bit more complexity is needed.\\n\\n> \\n> generate and store a nonce on the server side, hash that with the username and other info (e.g. client ip, computername, timestamp, similar stuff), and send that in the cookie. The nonce should be stored in the database, together with expiry date, and both checked when the cookie comes back.\\n> \\n> \\n> \\n\\nSo an implementation that doesn\\'t expose any information to the client might look like...\\n\\n```\\n// Storage:\\nsetcookie(\\n    \\'rememberme\\',\\n    hash_hmac(\\'sha256\\', $username . $_SERVER[\\'REMOTE_ADDR\\'], $storedNonce),\\n    time() + 8640000 // 100 days, for example\\n);\\n// Validation:\\n$valid = hash_equals(\\n    $_COOKIE[\\'rememberme\\'],\\n    hash_hmac(\\'sha256\\', $username . $_SERVER[\\'REMOTE_ADDR\\'], $storedNonce)\\n);\\n\\n```\\n\\nThe obvious limitation here is that, if your IP address (or other information) changes, your cookie is useless. Some might see this as a good thing, I see it as needlessly hostile towards usability for Tor users.\\n\\nYou can certainly interpret the above quote to mean something different, like a poor-man\\'s JSON Web token, too. However, HTTP cookies are limited to 4 KiB per domain. Space is at a premium.\\n\\nAnother problem: How much information does your database query leak about your application? (Yes, I\\'m talking about side-channels.)\\n\\n---\\n\\nParagon Initiative\\'s Secure \"Remember Me\" Strategy\\n--------------------------------------------------\\n\\n### Storage:\\n\\n1. Generate a random 9 byte string from `random_bytes()` (PHP 7.0+ or via [random\\\\_compat](https://github.com/paragonie/random_compat)), base64 encode it to 12. This will be used for database lookups.\\n2. Generate another random string, preferably at least 18 bytes long, and once again base64 encode it (to 24+). This will actually be used for authentication.\\n3. Store `$lookup` and `hash(\\'sha256, $validator)` in the database; of course associated with a specific user account.\\n4. Store `$lookup . $validator` in the user\\'s HTTP cookie (e.g. `rememberme`).\\n\\n### Validation (Automatic Login):\\n\\n1. Split the cookie into `$lookup` and `$validator`.\\n2. Perform a database lookup based on `$lookup`; it\\'s okay if there\\'s a timing side-channel here.\\n3. Check `hash_equals($row[\\'hashedValdator\\'], hash(\\'sha256\\', $validator))`.\\n4. If step 3 returns `TRUE`, associate the current session with the appropriate user account.\\n\\n### Security Analysis:\\n\\n* **What side-channels are mitigated?**  \\n\\nMost significantly: it mitigates the impact of timing information leaks on the string comparison operation used in the database lookup.\\n\\nIf you implemented a naive random token authentication, an attacker could send a lot of requests until they find a valid authentication token for a user. (They probably wouldn\\'t be able to select which victim they\\'re impersonating.)\\n* **What if an attacker can leak the long-term authentication database table?**  \\n\\nWe stored a SHA256 hash of the `$validator` in the database, but the plaintext for the hash is stored in the cookie. Since the input is a high entropy value, brute-force searching this is unlikely to yield any results. (This also mitigates the need for e.g. bcrypt.)\\n\\nThis strategy is implemented in [Gatekeeper](https://github.com/psecio/gatekeeper).'"
      ]
     },
     "execution_count": 28,
     "metadata": {},
     "output_type": "execute_result"
    }
   ],
   "source": [
    "\"\"+code_examples[0]"
   ]
  },
  {
   "cell_type": "code",
   "execution_count": 122,
   "id": "3dc6b4ee",
   "metadata": {},
   "outputs": [],
   "source": [
    "R_CODE_BLOCK = re.compile('^(([ \\t]*`{3,4})([^\\n]*)([\\s\\S]+?)(^[ \\t]*`{3,4}))', re.MULTILINE)\n",
    "code_ranges = []\n",
    "for m in re.finditer(R_CODE_BLOCK, code_examples[0]['response_j']):\n",
    "    code_ranges.append((m.start(), m.end()))\n",
    "R_CODE = re.compile('(?<=`)[^`\\r\\n]+(?=`)')\n",
    "for m in re.finditer(R_CODE, code_examples[0]['response_j']):\n",
    "    code_ranges.append((m.start(), m.end()))"
   ]
  },
  {
   "cell_type": "code",
   "execution_count": 123,
   "id": "c435a801",
   "metadata": {},
   "outputs": [
    {
     "data": {
      "text/plain": [
       "[(763, 1080),\n",
       " (1783, 1797),\n",
       " (2112, 2119),\n",
       " (2120, 2125),\n",
       " (2126, 2151),\n",
       " (2231, 2251),\n",
       " (2252, 2285),\n",
       " (2286, 2296),\n",
       " (2362, 2369),\n",
       " (2370, 2375),\n",
       " (2376, 2386),\n",
       " (2428, 2435),\n",
       " (2497, 2560),\n",
       " (2585, 2589),\n",
       " (3210, 3220)]"
      ]
     },
     "execution_count": 123,
     "metadata": {},
     "output_type": "execute_result"
    }
   ],
   "source": [
    "code_ranges"
   ]
  },
  {
   "cell_type": "code",
   "execution_count": 125,
   "id": "3dbf3a34",
   "metadata": {},
   "outputs": [
    {
     "data": {
      "text/plain": [
       "True"
      ]
     },
     "execution_count": 125,
     "metadata": {},
     "output_type": "execute_result"
    }
   ],
   "source": [
    "number = 764\n",
    "in_range = any(start <= number <= end for start, end in code_ranges)\n",
    "in_range"
   ]
  },
  {
   "cell_type": "code",
   "execution_count": null,
   "id": "f5fa02d7",
   "metadata": {},
   "outputs": [],
   "source": []
  },
  {
   "cell_type": "code",
   "execution_count": 126,
   "id": "90a7c6ea",
   "metadata": {},
   "outputs": [],
   "source": [
    "import nlpaug.augmenter.char as nac\n",
    "import nlpaug.augmenter.word as naw\n",
    "import nlpaug.augmenter.sentence as nas"
   ]
  },
  {
   "cell_type": "code",
   "execution_count": 160,
   "id": "ea6f12ca",
   "metadata": {},
   "outputs": [],
   "source": [
    "aug = nac.KeyboardAug(\n",
    "#     aug_char_max=1, \n",
    "                      aug_word_p=100,\n",
    "                      stopwords_regex='[^\\w]',\n",
    "                     #include_special_char=False, include_numeric=False, include_upper_case=False,\n",
    "                     #min_char=1\n",
    "                     )"
   ]
  },
  {
   "cell_type": "code",
   "execution_count": 161,
   "id": "aba29346",
   "metadata": {},
   "outputs": [
    {
     "name": "stdout",
     "output_type": "stream",
     "text": [
      "I've written at great length about [secure logins and \"remember me\" checkboxes](https://paragonie.com/blog/2015/04/secure-authentication-php-with-long-term-persistence#title.2.1). The accepted answer isn't wrong, but I'd argue that it's a bit more complicated in one respect than it needs to be, and neglects an area where a little bit more complexity is needed.\n",
      "\n",
      "> \n",
      "> generate and store a nonce on the server side, hash that with the username and other info (e.g. client ip, computername, timestamp, similar stuff), and send that in the cookie. The nonce should be stored in the database, together with expiry date, and both checked when the cookie comes back.\n",
      "> \n",
      "> \n",
      "> \n",
      "\n",
      "So an implementation that doesn't expose any information to the client might look like...\n",
      "\n",
      "\n",
      "====================\n",
      "I ' ve written at great length about [secure logins and \" remember me \" checkboxes] (https: / / paragonie. com / blog / 2015 / 04 / secure - authentication - php - with - long - term - persistence # title. 2. 1 ). The accepted answer isn ' t wrong, but I ' d argue that it ' s a bit more complicated in one respect than it needs to be, and neglects an area where a little bit more complexity is needed.> > generate and store a nonce on the server side, hash that with the username and other info (e. g. client ip, computername, timestamp, similar stuff ), and send that in the cookie. The nonce should be stored in the database, together with expiry date, and both checked when the cookie comes back.> >> So an implementation that doesn ' t expose any information to the client might look like. ..\n",
      "========================================\n"
     ]
    }
   ],
   "source": [
    "text = code_examples[0]['response_j']\n",
    "prev_end = 0\n",
    "for r in code_ranges:\n",
    "    substr = text[prev_end:r[0]]\n",
    "    prev_end = r[1]\n",
    "    print(substr)\n",
    "    print(\"=\"*20)\n",
    "    print(aug.augment(substr)[0])\n",
    "    print(\"=\"*40)\n",
    "    break"
   ]
  },
  {
   "cell_type": "code",
   "execution_count": null,
   "id": "318f294d",
   "metadata": {},
   "outputs": [],
   "source": []
  },
  {
   "cell_type": "code",
   "execution_count": 170,
   "id": "68b80ede",
   "metadata": {},
   "outputs": [],
   "source": [
    "import augmenty\n",
    "import spacy\n",
    "nlp = spacy.load(\"en_core_web_md\")\n",
    "keystroke_error_augmenter = augmenty.load(\"keystroke_error_v1\", level=0.1)"
   ]
  },
  {
   "cell_type": "code",
   "execution_count": 171,
   "id": "13e4a887",
   "metadata": {},
   "outputs": [
    {
     "name": "stdout",
     "output_type": "stream",
     "text": [
      "I've written at great length about [secure logins and \"remember me\" checkboxes](https://paragonie.com/blog/2015/04/secure-authentication-php-with-long-term-persistence#title.2.1). The accepted answer isn't wrong, but I'd argue that it's a bit more complicated in one respect than it needs to be, and neglects an area where a little bit more complexity is needed.\n",
      "\n",
      "> \n",
      "> generate and store a nonce on the server side, hash that with the username and other info (e.g. client ip, computername, timestamp, similar stuff), and send that in the cookie. The nonce should be stored in the database, together with expiry date, and both checked when the cookie comes back.\n",
      "> \n",
      "> \n",
      "> \n",
      "\n",
      "So an implementation that doesn't expose any information to the client might look like...\n",
      "\n",
      "\n",
      "====================\n",
      "I've wrirten at ggrat lengty about [sec7rf l8gkns and \"remember me\" checkboxes](https://paragonie.cpmlblog/2015l04/secure-authenticwtion-php-with-lomg-twrm0persistence#title.2.1(k The acxepted anwwer isn't wrong, but I'd argue thay ih's a bit mod2 complicated in one respect than it needs to be, and neglects an area where a lo5tle bit ,ord cojplexity 6s needed.\n",
      "\n",
      "> \n",
      "> geberatr and store a nonce on tte server side, hash that with the hsername and o4mer jgfo (e.g. client i[, co,puternsmek timesfamp, ximilzr stufc(, amd send fhat in fbe sookie. Thf monce shou/d be st;red in the dafafas3, together with expiry dar2. amd both checkex when the cookie comes back.\n",
      "> \n",
      "> \n",
      "> \n",
      "\n",
      "Co an implementation that dlesn'5 expose agy information to thr cliebt might oook like...\n",
      "\n",
      "\n",
      "========================================\n"
     ]
    }
   ],
   "source": [
    "text = code_examples[0]['response_j']\n",
    "\n",
    "\n",
    "texts = []\n",
    "prev_end = 0\n",
    "for r in code_ranges:\n",
    "    substr = text[prev_end:r[0]]\n",
    "    prev_end = r[1]\n",
    "    texts.append(substr)\n",
    "    \n",
    "augmented_texts = augmenty.texts(texts, augmenter=keystroke_error_augmenter, nlp=nlp)\n",
    "    \n",
    "for text, augmented_text in zip(texts, augmented_texts):\n",
    "    print(text)\n",
    "    print(\"=\"*20)\n",
    "    print(augmented_text)\n",
    "    print(\"=\"*40)\n",
    "    break"
   ]
  },
  {
   "cell_type": "code",
   "execution_count": null,
   "id": "6c84394f",
   "metadata": {},
   "outputs": [],
   "source": []
  }
 ],
 "metadata": {
  "kernelspec": {
   "display_name": "Python 3 (ipykernel)",
   "language": "python",
   "name": "python3"
  },
  "language_info": {
   "codemirror_mode": {
    "name": "ipython",
    "version": 3
   },
   "file_extension": ".py",
   "mimetype": "text/x-python",
   "name": "python",
   "nbconvert_exporter": "python",
   "pygments_lexer": "ipython3",
   "version": "3.10.6"
  }
 },
 "nbformat": 4,
 "nbformat_minor": 5
}
